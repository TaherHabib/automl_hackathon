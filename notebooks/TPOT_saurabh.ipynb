{
 "cells": [
  {
   "cell_type": "code",
   "execution_count": 1,
   "id": "e00027b7-9549-4ec8-b87a-f8e8389aa13a",
   "metadata": {},
   "outputs": [],
   "source": [
    "from tpot import TPOTClassifier\n",
    "\n",
    "from sklearn.metrics import accuracy_score"
   ]
  },
  {
   "cell_type": "code",
   "execution_count": 2,
   "id": "344ce2c6-daab-4974-851a-25739984dadf",
   "metadata": {},
   "outputs": [],
   "source": [
    "import sys\n",
    "from pathlib import Path\n",
    "\n",
    "module_path = str(Path.cwd().parents[0])\n",
    "if module_path not in sys.path:\n",
    "    sys.path.append(module_path)\n",
    "import config.settings\n",
    "import os\n",
    "import pandas as pd"
   ]
  },
  {
   "cell_type": "code",
   "execution_count": 3,
   "id": "3100bb97-6643-463f-9746-13a59d198558",
   "metadata": {},
   "outputs": [],
   "source": [
    "def read_csv(path:os.path):\n",
    "    \"\"\"\n",
    "\n",
    "    :return:\n",
    "    \"\"\"\n",
    "    df = pd.read_csv((path))\n",
    "    # train, test =sklearn.model_selection.train_test_split(df,test_size=0.2)\n",
    "\n",
    "    return df\n"
   ]
  },
  {
   "cell_type": "code",
   "execution_count": 4,
   "id": "7e87c924-b1c5-45a0-8b28-75e93cb2a352",
   "metadata": {},
   "outputs": [],
   "source": [
    "root = config.settings.get_project_path()\n",
    "dataset_path = os.path.join(root,'Data')\n",
    "\n",
    "df= read_csv(os.path.join(dataset_path,'train.csv'))\n",
    "df_test = read_csv(os.path.join(dataset_path,'test.csv'))"
   ]
  },
  {
   "cell_type": "code",
   "execution_count": 5,
   "id": "25299cfc-1725-4c92-a03b-9993677e15cd",
   "metadata": {},
   "outputs": [],
   "source": [
    "from sklearn.model_selection import train_test_split\n",
    "X = df.loc[:, df.columns != 'class']\n",
    "\n",
    "Y = df.loc[:, df.columns == 'class']\n",
    "test_size = 0.2\n",
    "shuffle = True\n",
    "\n",
    "train_X, test_X, train_Y, test_Y = train_test_split(X, Y, test_size=test_size, shuffle=shuffle)\n"
   ]
  },
  {
   "cell_type": "code",
   "execution_count": 6,
   "id": "63ca6b95-e4a5-47d1-b27f-e21be5037b9e",
   "metadata": {},
   "outputs": [
    {
     "name": "stderr",
     "output_type": "stream",
     "text": [
      "/home/sami02/anaconda3/envs/AutoML/lib/python3.8/site-packages/sklearn/utils/validation.py:63: DataConversionWarning: A column-vector y was passed when a 1d array was expected. Please change the shape of y to (n_samples, ), for example using ravel().\n",
      "  return f(*args, **kwargs)\n",
      "/home/sami02/anaconda3/envs/AutoML/lib/python3.8/site-packages/tpot/tpot.py:67: SettingWithCopyWarning: \n",
      "A value is trying to be set on a copy of a slice from a DataFrame.\n",
      "Try using .loc[row_indexer,col_indexer] = value instead\n",
      "\n",
      "See the caveats in the documentation: https://pandas.pydata.org/pandas-docs/stable/user_guide/indexing.html#returning-a-view-versus-a-copy\n",
      "  self.pretest_y[0:unique_target_idx.shape[0]] = \\\n",
      "/home/sami02/anaconda3/envs/AutoML/lib/python3.8/site-packages/pandas/core/indexing.py:1732: SettingWithCopyWarning: \n",
      "A value is trying to be set on a copy of a slice from a DataFrame\n",
      "\n",
      "See the caveats in the documentation: https://pandas.pydata.org/pandas-docs/stable/user_guide/indexing.html#returning-a-view-versus-a-copy\n",
      "  self._setitem_single_block(indexer, value, name)\n",
      "/home/sami02/anaconda3/envs/AutoML/lib/python3.8/site-packages/pandas/core/indexing.py:723: SettingWithCopyWarning: \n",
      "A value is trying to be set on a copy of a slice from a DataFrame\n",
      "\n",
      "See the caveats in the documentation: https://pandas.pydata.org/pandas-docs/stable/user_guide/indexing.html#returning-a-view-versus-a-copy\n",
      "  iloc._setitem_with_indexer(indexer, value, self.name)\n"
     ]
    },
    {
     "data": {
      "application/vnd.jupyter.widget-view+json": {
       "model_id": "e05b94c491174f149715bdb3970817c0",
       "version_major": 2,
       "version_minor": 0
      },
      "text/plain": [
       "Optimization Progress:   0%|          | 0/128 [00:00<?, ?pipeline/s]"
      ]
     },
     "metadata": {},
     "output_type": "display_data"
    },
    {
     "name": "stdout",
     "output_type": "stream",
     "text": [
      "\n",
      "Best pipeline: GaussianNB(MaxAbsScaler(input_matrix))\n",
      "\n",
      "TPOT  Accuracy:  0.6974487243621811\n"
     ]
    }
   ],
   "source": [
    "tpot_pipeline = TPOTClassifier(generations=32, \n",
    "                               population_size=128, \n",
    "                               offspring_size=128,\n",
    "                               scoring='accuracy', \n",
    "                               max_time_mins=200,\n",
    "                               n_jobs=-1,\n",
    "                               early_stop=52,\n",
    "                               log_file='./tpot_log_1.txt',\n",
    "                               subsample=0.5,\n",
    "                               verbosity=2)\n",
    "tpot_pipeline.fit(train_X, train_Y)\n",
    "\n",
    "print(\"\\nTPOT  Accuracy: \", accuracy_score(test_Y, tpot_pipeline.predict(test_X)))\n",
    "\n",
    "tpot_pipeline.export('tpot_1.py')"
   ]
  },
  {
   "cell_type": "code",
   "execution_count": 8,
   "id": "35d47515-de4b-4c56-abaf-effa24bae90d",
   "metadata": {},
   "outputs": [
    {
     "name": "stderr",
     "output_type": "stream",
     "text": [
      "/home/sami02/anaconda3/envs/AutoML/lib/python3.8/site-packages/sklearn/utils/validation.py:63: DataConversionWarning: A column-vector y was passed when a 1d array was expected. Please change the shape of y to (n_samples, ), for example using ravel().\n",
      "  return f(*args, **kwargs)\n"
     ]
    },
    {
     "name": "stdout",
     "output_type": "stream",
     "text": [
      "0.7170585292646323\n"
     ]
    }
   ],
   "source": [
    "import numpy as np\n",
    "import pandas as pd\n",
    "from sklearn.model_selection import train_test_split\n",
    "from sklearn.naive_bayes import GaussianNB\n",
    "from sklearn.pipeline import make_pipeline\n",
    "from sklearn.preprocessing import MaxAbsScaler\n",
    "\n",
    "# NOTE: Make sure that the outcome column is labeled 'target' in the data file\n",
    "tpot_data = pd.read_csv(os.path.join(dataset_path,'train.csv'))\n",
    "# features = tpot_data.drop('target', axis=1)\n",
    "from sklearn.model_selection import train_test_split\n",
    "X = df.loc[:, df.columns != 'class']\n",
    "\n",
    "Y = df.loc[:, df.columns == 'class']\n",
    "test_size = 0.2\n",
    "shuffle = True\n",
    "\n",
    "train_X, test_X, train_Y, test_Y = train_test_split(X, Y, test_size=test_size, shuffle=shuffle)\n",
    "\n",
    "\n",
    "# Average CV score on the training set was: 0.6880632210025452\n",
    "exported_pipeline = make_pipeline(\n",
    "    MaxAbsScaler(),\n",
    "    GaussianNB()\n",
    ")\n",
    "\n",
    "exported_pipeline.fit(train_X, train_Y)\n",
    "print(exported_pipeline.score(test_X,test_Y))"
   ]
  },
  {
   "cell_type": "code",
   "execution_count": 10,
   "id": "cf8a5ce2-dc77-4d27-bdef-1744fe5f1ce7",
   "metadata": {},
   "outputs": [
    {
     "name": "stderr",
     "output_type": "stream",
     "text": [
      "/tmp/ipykernel_101049/3698042793.py:5: SettingWithCopyWarning: \n",
      "A value is trying to be set on a copy of a slice from a DataFrame.\n",
      "Try using .loc[row_indexer,col_indexer] = value instead\n",
      "\n",
      "See the caveats in the documentation: https://pandas.pydata.org/pandas-docs/stable/user_guide/indexing.html#returning-a-view-versus-a-copy\n",
      "  id_['Predicted'] = list(test_result)\n"
     ]
    }
   ],
   "source": [
    "df_test = read_csv(os.path.join(dataset_path,'test.csv'))\n",
    "test = df_test.loc[:, df_test.columns != 'id']\n",
    "id_ = df_test.loc[:,df_test.columns == 'id']\n",
    "test_result = exported_pipeline.predict(test)\n",
    "id_['Predicted'] = list(test_result)\n",
    "id_.to_csv('submission.csv',index=False)"
   ]
  },
  {
   "cell_type": "code",
   "execution_count": null,
   "id": "23eba289-a7af-46e5-8c6b-8314a15e1dba",
   "metadata": {},
   "outputs": [],
   "source": []
  }
 ],
 "metadata": {
  "kernelspec": {
   "display_name": "Python 3 (ipykernel)",
   "language": "python",
   "name": "python3"
  },
  "language_info": {
   "codemirror_mode": {
    "name": "ipython",
    "version": 3
   },
   "file_extension": ".py",
   "mimetype": "text/x-python",
   "name": "python",
   "nbconvert_exporter": "python",
   "pygments_lexer": "ipython3",
   "version": "3.8.12"
  }
 },
 "nbformat": 4,
 "nbformat_minor": 5
}
