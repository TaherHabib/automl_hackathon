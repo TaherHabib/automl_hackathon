{
 "cells": [
  {
   "cell_type": "code",
   "execution_count": 1,
   "id": "64fd8181-5ccd-4416-afbc-7c7c24b79bd2",
   "metadata": {},
   "outputs": [],
   "source": [
    "import sys\n",
    "from pathlib import Path\n",
    "\n",
    "module_path = str(Path.cwd().parents[0])\n",
    "if module_path not in sys.path:\n",
    "    sys.path.append(module_path)"
   ]
  },
  {
   "cell_type": "code",
   "execution_count": 2,
   "id": "60f25315-04ef-42c4-a506-1bbd33ac2162",
   "metadata": {},
   "outputs": [],
   "source": [
    "import pandas as pd\n",
    "\n",
    "import sklearn\n",
    "import os\n",
    "\n",
    "\n",
    "from sklearn.metrics import accuracy_score\n",
    "\n",
    "import config.settings\n",
    "import autosklearn\n",
    "from sklearn.model_selection import train_test_split\n",
    "from autosklearn import classification"
   ]
  },
  {
   "cell_type": "code",
   "execution_count": null,
   "id": "915a6b23-6c81-441e-8b4b-4c3e65d138ae",
   "metadata": {},
   "outputs": [],
   "source": [
    "def read_csv(path:os.path):\n",
    "    \"\"\"\n",
    "\n",
    "    :return:\n",
    "    \"\"\"\n",
    "    df = pd.read_csv((path))\n",
    "    # train, test =sklearn.model_selection.train_test_split(df,test_size=0.2)\n",
    "\n",
    "    return df\n",
    "\n",
    "\n",
    "def scoring_function(estimator, X, Y):\n",
    "    predictions = estimator.predict(X)\n",
    "    return sklearn.metrics.accuracy_score(Y, predictions)\n",
    "\n"
   ]
  },
  {
   "cell_type": "code",
   "execution_count": null,
   "id": "5e0892d4-5204-4bf0-892a-a85cacb85eb4",
   "metadata": {},
   "outputs": [
    {
     "name": "stderr",
     "output_type": "stream",
     "text": [
      "OpenBLAS blas_thread_init: pthread_create failed for thread 14 of 16: Resource temporarily unavailable\n",
      "OpenBLAS blas_thread_init: RLIMIT_NPROC 101682 current, 101682 max\n",
      "OpenBLAS blas_thread_init: pthread_create failed for thread 15 of 16: Resource temporarily unavailable\n",
      "OpenBLAS blas_thread_init: RLIMIT_NPROC 101682 current, 101682 max\n"
     ]
    },
    {
     "name": "stdout",
     "output_type": "stream",
     "text": [
      "[ERROR] [2021-11-11 12:07:42,562:Client-AutoML(1):hackathon_data1] Dummy prediction failed with run state StatusType.CRASHED and additional output: {'error': 'Result queue is empty', 'exit_status': \"<class 'pynisher.limit_function_call.AnythingException'>\", 'subprocess_stdout': '', 'subprocess_stderr': 'Process pynisher function call:\\nTraceback (most recent call last):\\n  File \"/home/smishra/anaconda3/envs/automl/lib/python3.7/multiprocessing/process.py\", line 297, in _bootstrap\\n    self.run()\\n  File \"/home/smishra/anaconda3/envs/automl/lib/python3.7/multiprocessing/process.py\", line 99, in run\\n    self._target(*self._args, **self._kwargs)\\n  File \"/home/smishra/anaconda3/envs/automl/lib/python3.7/site-packages/pynisher/limit_function_call.py\", line 133, in subprocess_func\\n    return_value = ((func(*args, **kwargs), 0))\\n  File \"/home/smishra/anaconda3/envs/automl/lib/python3.7/site-packages/autosklearn/evaluation/__init__.py\", line 40, in fit_predict_try_except_decorator\\n    return ta(queue=queue, **kwargs)\\n  File \"/home/smishra/anaconda3/envs/automl/lib/python3.7/site-packages/autosklearn/evaluation/train_evaluator.py\", line 1367, in eval_cv\\n    budget_type=budget_type,\\n  File \"/home/smishra/anaconda3/envs/automl/lib/python3.7/site-packages/autosklearn/evaluation/train_evaluator.py\", line 196, in __init__\\n    budget_type=budget_type,\\n  File \"/home/smishra/anaconda3/envs/automl/lib/python3.7/site-packages/autosklearn/evaluation/abstract_evaluator.py\", line 199, in __init__\\n    threadpool_limits(limits=1)\\n  File \"/home/smishra/anaconda3/envs/automl/lib/python3.7/site-packages/threadpoolctl-3.0.0-py3.7.egg/threadpoolctl.py\", line 354, in __init__\\n    super().__init__(ThreadpoolController(), limits=limits, user_api=user_api)\\n  File \"/home/smishra/anaconda3/envs/automl/lib/python3.7/site-packages/threadpoolctl-3.0.0-py3.7.egg/threadpoolctl.py\", line 159, in __init__\\n    self._set_threadpool_limits()\\n  File \"/home/smishra/anaconda3/envs/automl/lib/python3.7/site-packages/threadpoolctl-3.0.0-py3.7.egg/threadpoolctl.py\", line 285, in _set_threadpool_limits\\n    lib_controller.set_num_threads(num_threads)\\n  File \"/home/smishra/anaconda3/envs/automl/lib/python3.7/site-packages/threadpoolctl-3.0.0-py3.7.egg/threadpoolctl.py\", line 809, in set_num_threads\\n    return set_func(num_threads)\\nKeyboardInterrupt\\n', 'exitcode': 1, 'configuration_origin': 'DUMMY'}.\n"
     ]
    },
    {
     "ename": "ValueError",
     "evalue": "Dummy prediction failed with run state StatusType.CRASHED and additional output: {'error': 'Result queue is empty', 'exit_status': \"<class 'pynisher.limit_function_call.AnythingException'>\", 'subprocess_stdout': '', 'subprocess_stderr': 'Process pynisher function call:\\nTraceback (most recent call last):\\n  File \"/home/smishra/anaconda3/envs/automl/lib/python3.7/multiprocessing/process.py\", line 297, in _bootstrap\\n    self.run()\\n  File \"/home/smishra/anaconda3/envs/automl/lib/python3.7/multiprocessing/process.py\", line 99, in run\\n    self._target(*self._args, **self._kwargs)\\n  File \"/home/smishra/anaconda3/envs/automl/lib/python3.7/site-packages/pynisher/limit_function_call.py\", line 133, in subprocess_func\\n    return_value = ((func(*args, **kwargs), 0))\\n  File \"/home/smishra/anaconda3/envs/automl/lib/python3.7/site-packages/autosklearn/evaluation/__init__.py\", line 40, in fit_predict_try_except_decorator\\n    return ta(queue=queue, **kwargs)\\n  File \"/home/smishra/anaconda3/envs/automl/lib/python3.7/site-packages/autosklearn/evaluation/train_evaluator.py\", line 1367, in eval_cv\\n    budget_type=budget_type,\\n  File \"/home/smishra/anaconda3/envs/automl/lib/python3.7/site-packages/autosklearn/evaluation/train_evaluator.py\", line 196, in __init__\\n    budget_type=budget_type,\\n  File \"/home/smishra/anaconda3/envs/automl/lib/python3.7/site-packages/autosklearn/evaluation/abstract_evaluator.py\", line 199, in __init__\\n    threadpool_limits(limits=1)\\n  File \"/home/smishra/anaconda3/envs/automl/lib/python3.7/site-packages/threadpoolctl-3.0.0-py3.7.egg/threadpoolctl.py\", line 354, in __init__\\n    super().__init__(ThreadpoolController(), limits=limits, user_api=user_api)\\n  File \"/home/smishra/anaconda3/envs/automl/lib/python3.7/site-packages/threadpoolctl-3.0.0-py3.7.egg/threadpoolctl.py\", line 159, in __init__\\n    self._set_threadpool_limits()\\n  File \"/home/smishra/anaconda3/envs/automl/lib/python3.7/site-packages/threadpoolctl-3.0.0-py3.7.egg/threadpoolctl.py\", line 285, in _set_threadpool_limits\\n    lib_controller.set_num_threads(num_threads)\\n  File \"/home/smishra/anaconda3/envs/automl/lib/python3.7/site-packages/threadpoolctl-3.0.0-py3.7.egg/threadpoolctl.py\", line 809, in set_num_threads\\n    return set_func(num_threads)\\nKeyboardInterrupt\\n', 'exitcode': 1, 'configuration_origin': 'DUMMY'}.",
     "output_type": "error",
     "traceback": [
      "\u001b[0;31m---------------------------------------------------------------------------\u001b[0m",
      "\u001b[0;31mValueError\u001b[0m                                Traceback (most recent call last)",
      "\u001b[0;32m/tmp/ipykernel_197/2967371913.py\u001b[0m in \u001b[0;36m<module>\u001b[0;34m\u001b[0m\n\u001b[1;32m     26\u001b[0m     \u001b[0mn_jobs\u001b[0m\u001b[0;34m=\u001b[0m\u001b[0;34m-\u001b[0m\u001b[0;36m1\u001b[0m\u001b[0;34m\u001b[0m\u001b[0m\n\u001b[1;32m     27\u001b[0m )\n\u001b[0;32m---> 28\u001b[0;31m \u001b[0mestimator\u001b[0m\u001b[0;34m.\u001b[0m\u001b[0mfit\u001b[0m\u001b[0;34m(\u001b[0m\u001b[0mtrain_X\u001b[0m\u001b[0;34m,\u001b[0m \u001b[0mtrain_Y\u001b[0m\u001b[0;34m,\u001b[0m \u001b[0mdataset_name\u001b[0m\u001b[0;34m=\u001b[0m\u001b[0;34m'hackathon_data1'\u001b[0m\u001b[0;34m)\u001b[0m\u001b[0;34m\u001b[0m\u001b[0m\n\u001b[0m\u001b[1;32m     29\u001b[0m \u001b[0mprint\u001b[0m\u001b[0;34m(\u001b[0m\u001b[0;34mf\"Train Auto-Sklearn Classifier performance is {scoring_function(estimator, train_X, train_Y)}\"\u001b[0m\u001b[0;34m)\u001b[0m\u001b[0;34m\u001b[0m\u001b[0m\n\u001b[1;32m     30\u001b[0m \u001b[0mprint\u001b[0m\u001b[0;34m(\u001b[0m\u001b[0;34mf\"Test Auto-Sklearn Classifier performance is {scoring_function(estimator, test_X, test_Y)}\"\u001b[0m\u001b[0;34m)\u001b[0m\u001b[0;34m\u001b[0m\u001b[0m\n",
      "\u001b[0;32m~/anaconda3/envs/automl/lib/python3.7/site-packages/autosklearn/estimators.py\u001b[0m in \u001b[0;36mfit\u001b[0;34m(self, X, y, X_test, y_test, feat_type, dataset_name)\u001b[0m\n\u001b[1;32m    942\u001b[0m             \u001b[0my_test\u001b[0m\u001b[0;34m=\u001b[0m\u001b[0my_test\u001b[0m\u001b[0;34m,\u001b[0m\u001b[0;34m\u001b[0m\u001b[0m\n\u001b[1;32m    943\u001b[0m             \u001b[0mfeat_type\u001b[0m\u001b[0;34m=\u001b[0m\u001b[0mfeat_type\u001b[0m\u001b[0;34m,\u001b[0m\u001b[0;34m\u001b[0m\u001b[0m\n\u001b[0;32m--> 944\u001b[0;31m             \u001b[0mdataset_name\u001b[0m\u001b[0;34m=\u001b[0m\u001b[0mdataset_name\u001b[0m\u001b[0;34m,\u001b[0m\u001b[0;34m\u001b[0m\u001b[0m\n\u001b[0m\u001b[1;32m    945\u001b[0m         )\n\u001b[1;32m    946\u001b[0m \u001b[0;34m\u001b[0m\u001b[0m\n",
      "\u001b[0;32m~/anaconda3/envs/automl/lib/python3.7/site-packages/autosklearn/estimators.py\u001b[0m in \u001b[0;36mfit\u001b[0;34m(self, **kwargs)\u001b[0m\n\u001b[1;32m    328\u001b[0m         \u001b[0;32mif\u001b[0m \u001b[0mself\u001b[0m\u001b[0;34m.\u001b[0m\u001b[0mautoml_\u001b[0m \u001b[0;32mis\u001b[0m \u001b[0;32mNone\u001b[0m\u001b[0;34m:\u001b[0m\u001b[0;34m\u001b[0m\u001b[0m\n\u001b[1;32m    329\u001b[0m             \u001b[0mself\u001b[0m\u001b[0;34m.\u001b[0m\u001b[0mautoml_\u001b[0m \u001b[0;34m=\u001b[0m \u001b[0mself\u001b[0m\u001b[0;34m.\u001b[0m\u001b[0mbuild_automl\u001b[0m\u001b[0;34m(\u001b[0m\u001b[0;34m)\u001b[0m\u001b[0;34m\u001b[0m\u001b[0m\n\u001b[0;32m--> 330\u001b[0;31m         \u001b[0mself\u001b[0m\u001b[0;34m.\u001b[0m\u001b[0mautoml_\u001b[0m\u001b[0;34m.\u001b[0m\u001b[0mfit\u001b[0m\u001b[0;34m(\u001b[0m\u001b[0mload_models\u001b[0m\u001b[0;34m=\u001b[0m\u001b[0mself\u001b[0m\u001b[0;34m.\u001b[0m\u001b[0mload_models\u001b[0m\u001b[0;34m,\u001b[0m \u001b[0;34m**\u001b[0m\u001b[0mkwargs\u001b[0m\u001b[0;34m)\u001b[0m\u001b[0;34m\u001b[0m\u001b[0m\n\u001b[0m\u001b[1;32m    331\u001b[0m \u001b[0;34m\u001b[0m\u001b[0m\n\u001b[1;32m    332\u001b[0m         \u001b[0;32mreturn\u001b[0m \u001b[0mself\u001b[0m\u001b[0;34m\u001b[0m\u001b[0m\n",
      "\u001b[0;32m~/anaconda3/envs/automl/lib/python3.7/site-packages/autosklearn/automl.py\u001b[0m in \u001b[0;36mfit\u001b[0;34m(self, X, y, X_test, y_test, feat_type, dataset_name, only_return_configuration_space, load_models)\u001b[0m\n\u001b[1;32m   1920\u001b[0m             \u001b[0monly_return_configuration_space\u001b[0m\u001b[0;34m=\u001b[0m\u001b[0monly_return_configuration_space\u001b[0m\u001b[0;34m,\u001b[0m\u001b[0;34m\u001b[0m\u001b[0m\n\u001b[1;32m   1921\u001b[0m             \u001b[0mload_models\u001b[0m\u001b[0;34m=\u001b[0m\u001b[0mload_models\u001b[0m\u001b[0;34m,\u001b[0m\u001b[0;34m\u001b[0m\u001b[0m\n\u001b[0;32m-> 1922\u001b[0;31m             \u001b[0mis_classification\u001b[0m\u001b[0;34m=\u001b[0m\u001b[0;32mTrue\u001b[0m\u001b[0;34m,\u001b[0m\u001b[0;34m\u001b[0m\u001b[0m\n\u001b[0m\u001b[1;32m   1923\u001b[0m         )\n\u001b[1;32m   1924\u001b[0m \u001b[0;34m\u001b[0m\u001b[0m\n",
      "\u001b[0;32m~/anaconda3/envs/automl/lib/python3.7/site-packages/autosklearn/automl.py\u001b[0m in \u001b[0;36mfit\u001b[0;34m(self, X, y, task, X_test, y_test, feat_type, dataset_name, only_return_configuration_space, load_models, is_classification)\u001b[0m\n\u001b[1;32m    802\u001b[0m         \u001b[0;31m# == Perform dummy predictions\u001b[0m\u001b[0;34m\u001b[0m\u001b[0;34m\u001b[0m\u001b[0m\n\u001b[1;32m    803\u001b[0m         \u001b[0;31m# Dummy prediction always have num_run set to 1\u001b[0m\u001b[0;34m\u001b[0m\u001b[0;34m\u001b[0m\u001b[0m\n\u001b[0;32m--> 804\u001b[0;31m         \u001b[0mself\u001b[0m\u001b[0;34m.\u001b[0m\u001b[0mnum_run\u001b[0m \u001b[0;34m+=\u001b[0m \u001b[0mself\u001b[0m\u001b[0;34m.\u001b[0m\u001b[0m_do_dummy_prediction\u001b[0m\u001b[0;34m(\u001b[0m\u001b[0mdatamanager\u001b[0m\u001b[0;34m,\u001b[0m \u001b[0mnum_run\u001b[0m\u001b[0;34m=\u001b[0m\u001b[0;36m1\u001b[0m\u001b[0;34m)\u001b[0m\u001b[0;34m\u001b[0m\u001b[0m\n\u001b[0m\u001b[1;32m    805\u001b[0m \u001b[0;34m\u001b[0m\u001b[0m\n\u001b[1;32m    806\u001b[0m         \u001b[0;31m# == RUN ensemble builder\u001b[0m\u001b[0;34m\u001b[0m\u001b[0;34m\u001b[0m\u001b[0m\n",
      "\u001b[0;32m~/anaconda3/envs/automl/lib/python3.7/site-packages/autosklearn/automl.py\u001b[0m in \u001b[0;36m_do_dummy_prediction\u001b[0;34m(self, datamanager, num_run)\u001b[0m\n\u001b[1;32m    472\u001b[0m                 raise ValueError(\n\u001b[1;32m    473\u001b[0m                     \u001b[0;34m\"Dummy prediction failed with run state %s and additional output: %s.\"\u001b[0m\u001b[0;34m\u001b[0m\u001b[0m\n\u001b[0;32m--> 474\u001b[0;31m                     \u001b[0;34m%\u001b[0m \u001b[0;34m(\u001b[0m\u001b[0mstr\u001b[0m\u001b[0;34m(\u001b[0m\u001b[0mstatus\u001b[0m\u001b[0;34m)\u001b[0m\u001b[0;34m,\u001b[0m \u001b[0mstr\u001b[0m\u001b[0;34m(\u001b[0m\u001b[0madditional_info\u001b[0m\u001b[0;34m)\u001b[0m\u001b[0;34m)\u001b[0m\u001b[0;34m\u001b[0m\u001b[0m\n\u001b[0m\u001b[1;32m    475\u001b[0m                 )\n\u001b[1;32m    476\u001b[0m         \u001b[0;32mreturn\u001b[0m \u001b[0mnum_run\u001b[0m\u001b[0;34m\u001b[0m\u001b[0m\n",
      "\u001b[0;31mValueError\u001b[0m: Dummy prediction failed with run state StatusType.CRASHED and additional output: {'error': 'Result queue is empty', 'exit_status': \"<class 'pynisher.limit_function_call.AnythingException'>\", 'subprocess_stdout': '', 'subprocess_stderr': 'Process pynisher function call:\\nTraceback (most recent call last):\\n  File \"/home/smishra/anaconda3/envs/automl/lib/python3.7/multiprocessing/process.py\", line 297, in _bootstrap\\n    self.run()\\n  File \"/home/smishra/anaconda3/envs/automl/lib/python3.7/multiprocessing/process.py\", line 99, in run\\n    self._target(*self._args, **self._kwargs)\\n  File \"/home/smishra/anaconda3/envs/automl/lib/python3.7/site-packages/pynisher/limit_function_call.py\", line 133, in subprocess_func\\n    return_value = ((func(*args, **kwargs), 0))\\n  File \"/home/smishra/anaconda3/envs/automl/lib/python3.7/site-packages/autosklearn/evaluation/__init__.py\", line 40, in fit_predict_try_except_decorator\\n    return ta(queue=queue, **kwargs)\\n  File \"/home/smishra/anaconda3/envs/automl/lib/python3.7/site-packages/autosklearn/evaluation/train_evaluator.py\", line 1367, in eval_cv\\n    budget_type=budget_type,\\n  File \"/home/smishra/anaconda3/envs/automl/lib/python3.7/site-packages/autosklearn/evaluation/train_evaluator.py\", line 196, in __init__\\n    budget_type=budget_type,\\n  File \"/home/smishra/anaconda3/envs/automl/lib/python3.7/site-packages/autosklearn/evaluation/abstract_evaluator.py\", line 199, in __init__\\n    threadpool_limits(limits=1)\\n  File \"/home/smishra/anaconda3/envs/automl/lib/python3.7/site-packages/threadpoolctl-3.0.0-py3.7.egg/threadpoolctl.py\", line 354, in __init__\\n    super().__init__(ThreadpoolController(), limits=limits, user_api=user_api)\\n  File \"/home/smishra/anaconda3/envs/automl/lib/python3.7/site-packages/threadpoolctl-3.0.0-py3.7.egg/threadpoolctl.py\", line 159, in __init__\\n    self._set_threadpool_limits()\\n  File \"/home/smishra/anaconda3/envs/automl/lib/python3.7/site-packages/threadpoolctl-3.0.0-py3.7.egg/threadpoolctl.py\", line 285, in _set_threadpool_limits\\n    lib_controller.set_num_threads(num_threads)\\n  File \"/home/smishra/anaconda3/envs/automl/lib/python3.7/site-packages/threadpoolctl-3.0.0-py3.7.egg/threadpoolctl.py\", line 809, in set_num_threads\\n    return set_func(num_threads)\\nKeyboardInterrupt\\n', 'exitcode': 1, 'configuration_origin': 'DUMMY'}."
     ]
    }
   ],
   "source": [
    "root = config.settings.get_project_path()\n",
    "dataset_path = os.path.join(root,'Data')\n",
    "\n",
    "df= read_csv(os.path.join(dataset_path,'train.csv'))\n",
    "df_test = read_csv(os.path.join(dataset_path,'test.csv'))\n",
    "# y_train = train_df['class']\n",
    "# y_test = test_df['class']\n",
    "# X_train = train_df.drop('class',axis=1)\n",
    "# X_test = test_df.drop('class', axis =1)\n",
    "\n",
    "X = df.loc[:, df.columns != 'class']\n",
    "\n",
    "Y = df.loc[:, df.columns == 'class']\n",
    "test_size = 0.2\n",
    "shuffle = True\n",
    "\n",
    "train_X, test_X, train_Y, test_Y = train_test_split(X, Y, test_size=test_size, shuffle=shuffle)\n",
    "\n",
    "estimator = classification.AutoSklearnClassifier(\n",
    "    include = {\n",
    "        'classifier': [\"gaussian_nb\",\"random_forest\"],\n",
    "        'feature_preprocessor': [\"no_preprocessing\",\"select_rates_classification\"]\n",
    "    },\n",
    "    time_left_for_this_task=300,\n",
    "    seed=42, \n",
    "    resampling_strategy='cv',\n",
    "    resampling_strategy_arguments= {'shuffle':True, 'folds': 5},\n",
    "    metric=autosklearn.metrics.accuracy,\n",
    "    n_jobs=2\n",
    ")\n",
    "estimator.fit(train_X, train_Y, dataset_name='hackathon_data1')\n",
    "print(f\"Train Auto-Sklearn Classifier performance is {scoring_function(estimator, train_X, train_Y)}\")\n",
    "print(f\"Test Auto-Sklearn Classifier performance is {scoring_function(estimator, test_X, test_Y)}\")\n",
    "\n"
   ]
  },
  {
   "cell_type": "code",
   "execution_count": null,
   "id": "6da2783a-2238-47f2-baa8-47cd15ecc7ed",
   "metadata": {},
   "outputs": [],
   "source": [
    "test_X"
   ]
  },
  {
   "cell_type": "code",
   "execution_count": 7,
   "id": "691405d0-9ded-4ac2-ab54-e88fc4228168",
   "metadata": {},
   "outputs": [
    {
     "name": "stdout",
     "output_type": "stream",
     "text": [
      "[(1.000000, SimpleClassificationPipeline({'balancing:strategy': 'weighting', 'classifier:__choice__': 'gaussian_nb', 'data_preprocessor:__choice__': 'feature_type', 'feature_preprocessor:__choice__': 'fast_ica', 'data_preprocessor:feature_type:categorical_transformer:categorical_encoding:__choice__': 'one_hot_encoding', 'data_preprocessor:feature_type:categorical_transformer:category_coalescence:__choice__': 'no_coalescense', 'data_preprocessor:feature_type:numerical_transformer:imputation:strategy': 'median', 'data_preprocessor:feature_type:numerical_transformer:rescaling:__choice__': 'none', 'feature_preprocessor:fast_ica:algorithm': 'deflation', 'feature_preprocessor:fast_ica:fun': 'cube', 'feature_preprocessor:fast_ica:whiten': 'False'},\n",
      "dataset_properties={\n",
      "  'task': 2,\n",
      "  'sparse': False,\n",
      "  'multilabel': False,\n",
      "  'multiclass': True,\n",
      "  'target_type': 'classification',\n",
      "  'signed': False})),\n",
      "]\n"
     ]
    }
   ],
   "source": [
    "print(estimator.show_models())\n",
    "\n"
   ]
  },
  {
   "cell_type": "code",
   "execution_count": 8,
   "id": "a3131dca-c4d8-4ac9-ba7f-6189b6bedad1",
   "metadata": {},
   "outputs": [
    {
     "data": {
      "text/html": [
       "<div>\n",
       "<style scoped>\n",
       "    .dataframe tbody tr th:only-of-type {\n",
       "        vertical-align: middle;\n",
       "    }\n",
       "\n",
       "    .dataframe tbody tr th {\n",
       "        vertical-align: top;\n",
       "    }\n",
       "\n",
       "    .dataframe thead th {\n",
       "        text-align: right;\n",
       "    }\n",
       "</style>\n",
       "<table border=\"1\" class=\"dataframe\">\n",
       "  <thead>\n",
       "    <tr style=\"text-align: right;\">\n",
       "      <th></th>\n",
       "      <th>rank</th>\n",
       "      <th>ensemble_weight</th>\n",
       "      <th>type</th>\n",
       "      <th>cost</th>\n",
       "      <th>duration</th>\n",
       "    </tr>\n",
       "    <tr>\n",
       "      <th>model_id</th>\n",
       "      <th></th>\n",
       "      <th></th>\n",
       "      <th></th>\n",
       "      <th></th>\n",
       "      <th></th>\n",
       "    </tr>\n",
       "  </thead>\n",
       "  <tbody>\n",
       "    <tr>\n",
       "      <th>20</th>\n",
       "      <td>1</td>\n",
       "      <td>1.0</td>\n",
       "      <td>gaussian_nb</td>\n",
       "      <td>0.879906</td>\n",
       "      <td>82.655758</td>\n",
       "    </tr>\n",
       "  </tbody>\n",
       "</table>\n",
       "</div>"
      ],
      "text/plain": [
       "          rank  ensemble_weight         type      cost   duration\n",
       "model_id                                                         \n",
       "20           1              1.0  gaussian_nb  0.879906  82.655758"
      ]
     },
     "execution_count": 8,
     "metadata": {},
     "output_type": "execute_result"
    }
   ],
   "source": [
    "estimator.leaderboard()"
   ]
  },
  {
   "cell_type": "code",
   "execution_count": 21,
   "id": "0cddad4f-1d99-4ed3-be3b-3797981f17a8",
   "metadata": {},
   "outputs": [],
   "source": [
    "df_test = read_csv(os.path.join(dataset_path,'test.csv'))"
   ]
  },
  {
   "cell_type": "code",
   "execution_count": 22,
   "id": "521429bb-1adb-4057-bf17-3f7837ff3233",
   "metadata": {},
   "outputs": [],
   "source": [
    "test = df_test.loc[:, df_test.columns != 'id']\n",
    "id_ = df_test.loc[:,df_test.columns == 'id']"
   ]
  },
  {
   "cell_type": "code",
   "execution_count": 23,
   "id": "b3f5b38c-1e38-4cd4-aa20-58f32821eaa8",
   "metadata": {},
   "outputs": [],
   "source": [
    "test_result = estimator.predict(test)"
   ]
  },
  {
   "cell_type": "code",
   "execution_count": 24,
   "id": "8d5ee11e-4a25-4b23-aa39-424d2f93b53c",
   "metadata": {},
   "outputs": [
    {
     "data": {
      "text/plain": [
       "66238"
      ]
     },
     "execution_count": 24,
     "metadata": {},
     "output_type": "execute_result"
    }
   ],
   "source": [
    "len(test_result)"
   ]
  },
  {
   "cell_type": "code",
   "execution_count": 25,
   "id": "5f9ac007-c71d-4bea-8d9a-58d261620723",
   "metadata": {},
   "outputs": [
    {
     "data": {
      "text/plain": [
       "array(['BS', 'AN', 'CY', ..., 'BM', 'AN', 'BV'], dtype=object)"
      ]
     },
     "execution_count": 25,
     "metadata": {},
     "output_type": "execute_result"
    }
   ],
   "source": [
    "test_result"
   ]
  },
  {
   "cell_type": "code",
   "execution_count": 17,
   "id": "773bea0c-37e4-4d93-89c7-97b20cb2d09c",
   "metadata": {},
   "outputs": [
    {
     "data": {
      "text/html": [
       "<div>\n",
       "<style scoped>\n",
       "    .dataframe tbody tr th:only-of-type {\n",
       "        vertical-align: middle;\n",
       "    }\n",
       "\n",
       "    .dataframe tbody tr th {\n",
       "        vertical-align: top;\n",
       "    }\n",
       "\n",
       "    .dataframe thead th {\n",
       "        text-align: right;\n",
       "    }\n",
       "</style>\n",
       "<table border=\"1\" class=\"dataframe\">\n",
       "  <thead>\n",
       "    <tr style=\"text-align: right;\">\n",
       "      <th></th>\n",
       "      <th>id</th>\n",
       "    </tr>\n",
       "  </thead>\n",
       "  <tbody>\n",
       "    <tr>\n",
       "      <th>0</th>\n",
       "      <td>1</td>\n",
       "    </tr>\n",
       "    <tr>\n",
       "      <th>1</th>\n",
       "      <td>2</td>\n",
       "    </tr>\n",
       "    <tr>\n",
       "      <th>2</th>\n",
       "      <td>3</td>\n",
       "    </tr>\n",
       "    <tr>\n",
       "      <th>3</th>\n",
       "      <td>4</td>\n",
       "    </tr>\n",
       "    <tr>\n",
       "      <th>4</th>\n",
       "      <td>5</td>\n",
       "    </tr>\n",
       "    <tr>\n",
       "      <th>...</th>\n",
       "      <td>...</td>\n",
       "    </tr>\n",
       "    <tr>\n",
       "      <th>66201</th>\n",
       "      <td>66234</td>\n",
       "    </tr>\n",
       "    <tr>\n",
       "      <th>66202</th>\n",
       "      <td>66235</td>\n",
       "    </tr>\n",
       "    <tr>\n",
       "      <th>66203</th>\n",
       "      <td>66236</td>\n",
       "    </tr>\n",
       "    <tr>\n",
       "      <th>66204</th>\n",
       "      <td>66237</td>\n",
       "    </tr>\n",
       "    <tr>\n",
       "      <th>66205</th>\n",
       "      <td>66238</td>\n",
       "    </tr>\n",
       "  </tbody>\n",
       "</table>\n",
       "<p>66206 rows × 1 columns</p>\n",
       "</div>"
      ],
      "text/plain": [
       "          id\n",
       "0          1\n",
       "1          2\n",
       "2          3\n",
       "3          4\n",
       "4          5\n",
       "...      ...\n",
       "66201  66234\n",
       "66202  66235\n",
       "66203  66236\n",
       "66204  66237\n",
       "66205  66238\n",
       "\n",
       "[66206 rows x 1 columns]"
      ]
     },
     "execution_count": 17,
     "metadata": {},
     "output_type": "execute_result"
    }
   ],
   "source": [
    "id_"
   ]
  },
  {
   "cell_type": "code",
   "execution_count": 26,
   "id": "e921a6d9-870b-4c59-b25e-b7d5db9aeb90",
   "metadata": {},
   "outputs": [
    {
     "name": "stderr",
     "output_type": "stream",
     "text": [
      "/tmp/ipykernel_93067/765102214.py:1: SettingWithCopyWarning: \n",
      "A value is trying to be set on a copy of a slice from a DataFrame.\n",
      "Try using .loc[row_indexer,col_indexer] = value instead\n",
      "\n",
      "See the caveats in the documentation: https://pandas.pydata.org/pandas-docs/stable/user_guide/indexing.html#returning-a-view-versus-a-copy\n",
      "  id_['Predicted'] = list(test_result)\n"
     ]
    }
   ],
   "source": [
    "id_['Predicted'] = list(test_result)"
   ]
  },
  {
   "cell_type": "code",
   "execution_count": 27,
   "id": "4537894e-d23e-4373-af1f-c2669e739c56",
   "metadata": {},
   "outputs": [],
   "source": [
    "id_.to_csv('submission.csv',index=False)"
   ]
  },
  {
   "cell_type": "code",
   "execution_count": null,
   "id": "68ab9441-4414-46d7-a04c-d2ec758d8a19",
   "metadata": {},
   "outputs": [],
   "source": []
  }
 ],
 "metadata": {
  "kernelspec": {
   "display_name": "Python 3 (ipykernel)",
   "language": "python",
   "name": "python3"
  },
  "language_info": {
   "codemirror_mode": {
    "name": "ipython",
    "version": 3
   },
   "file_extension": ".py",
   "mimetype": "text/x-python",
   "name": "python",
   "nbconvert_exporter": "python",
   "pygments_lexer": "ipython3",
   "version": "3.7.0"
  }
 },
 "nbformat": 4,
 "nbformat_minor": 5
}
